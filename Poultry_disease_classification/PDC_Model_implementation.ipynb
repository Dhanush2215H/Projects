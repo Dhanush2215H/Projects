{
 "cells": [
  {
   "cell_type": "code",
   "execution_count": 9,
   "id": "8a7db9cf-43ef-4a90-af9f-1abe27d20e68",
   "metadata": {},
   "outputs": [],
   "source": [
    "from keras.models import load_model\n",
    "from tensorflow.keras.utils import img_to_array\n",
    "from tensorflow.keras.utils import load_img\n",
    "import numpy as np\n",
    "import os\n",
    "import gradio as gr"
   ]
  },
  {
   "cell_type": "code",
   "execution_count": 10,
   "id": "a82cbc53-5c42-4607-88cd-1b1ff9dcea97",
   "metadata": {},
   "outputs": [
    {
     "data": {
      "text/plain": [
       "'/Users/dhanushk/chicken disease prediction'"
      ]
     },
     "execution_count": 10,
     "metadata": {},
     "output_type": "execute_result"
    }
   ],
   "source": [
    "os.getcwd()"
   ]
  },
  {
   "cell_type": "code",
   "execution_count": 11,
   "id": "49e0b331-0c0f-4df2-90db-e8b964276c03",
   "metadata": {},
   "outputs": [],
   "source": [
    "os.chdir('/Users/dhanushk/chicken disease prediction')"
   ]
  },
  {
   "cell_type": "code",
   "execution_count": 12,
   "id": "de5b0ede-db49-49b0-806a-06e0cb1b4da7",
   "metadata": {},
   "outputs": [],
   "source": [
    "model=load_model('efficientnetb3-Chicken Disease-98.14.h5')"
   ]
  },
  {
   "cell_type": "code",
   "execution_count": 14,
   "id": "6e213ef1-ae34-4252-a2d1-1889855bbc8a",
   "metadata": {},
   "outputs": [],
   "source": [
    "def predict(image):\n",
    "    \n",
    "    #processing of the image \n",
    "    test_image = load_img(imagename, target_size = (224, 224))\n",
    "    test_image = img_to_array(test_image)\n",
    "    test_image = np.expand_dims(test_image, axis = 0)\n",
    "    \n",
    "    #Prediction on image \n",
    "    image_result = np.argmax(model.predict(test_image), axis = 1)\n",
    "    \n",
    "    #returning the result \n",
    "    if image_result == 0:\n",
    "        result = \"Coccidiosis\"\n",
    "        return result \n",
    "    elif image_result == 1:\n",
    "        result = \"Healthy\"\n",
    "        return result\n",
    "    elif image_result == 2:\n",
    "        result = \"New_Castle_Disease\"\n",
    "        return result\n",
    "    elif image_result == 3:\n",
    "        result = \"Salmonella\"\n",
    "        return result"
   ]
  },
  {
   "cell_type": "code",
   "execution_count": 18,
   "id": "2f1c5262-14f2-41bb-a567-5585027a438f",
   "metadata": {},
   "outputs": [],
   "source": [
    "imagename = '/Users/dhanushk/chicken disease prediction/Data set/Train/salmo.723.jpg'"
   ]
  },
  {
   "cell_type": "code",
   "execution_count": 19,
   "id": "e4896f60-bbf5-431f-8374-596c68607efe",
   "metadata": {},
   "outputs": [
    {
     "name": "stdout",
     "output_type": "stream",
     "text": [
      "1/1 [==============================] - 0s 57ms/step\n"
     ]
    },
    {
     "data": {
      "text/plain": [
       "'Salmonella'"
      ]
     },
     "execution_count": 19,
     "metadata": {},
     "output_type": "execute_result"
    }
   ],
   "source": [
    "predict(imagename)"
   ]
  },
  {
   "cell_type": "code",
   "execution_count": 20,
   "id": "df8fd58a-b6b7-4fc0-a479-888ac66924fb",
   "metadata": {},
   "outputs": [
    {
     "name": "stdout",
     "output_type": "stream",
     "text": [
      "Running on local URL:  http://127.0.0.1:7862\n",
      "Running on public URL: https://55e2d38413c98f6e4f.gradio.live\n",
      "\n",
      "This share link expires in 72 hours. For free permanent hosting and GPU upgrades, run `gradio deploy` from Terminal to deploy to Spaces (https://huggingface.co/spaces)\n"
     ]
    },
    {
     "data": {
      "text/html": [
       "<div><iframe src=\"https://55e2d38413c98f6e4f.gradio.live\" width=\"100%\" height=\"500\" allow=\"autoplay; camera; microphone; clipboard-read; clipboard-write;\" frameborder=\"0\" allowfullscreen></iframe></div>"
      ],
      "text/plain": [
       "<IPython.core.display.HTML object>"
      ]
     },
     "metadata": {},
     "output_type": "display_data"
    },
    {
     "data": {
      "text/plain": []
     },
     "execution_count": 20,
     "metadata": {},
     "output_type": "execute_result"
    },
    {
     "name": "stdout",
     "output_type": "stream",
     "text": [
      "1/1 [==============================] - 0s 56ms/step\n"
     ]
    }
   ],
   "source": [
    "demo = gr.Interface(\n",
    "    fn=predict,\n",
    "    inputs=gr.Image(type=\"filepath\", value = imagename, label=\"Input Image\"),\n",
    "    outputs=\"text\",  # Assuming your prediction function returns text\n",
    "    title=\"Chicken Disease Detection\",\n",
    "    flagging_options=[\"blurry\", \"incorrect\", \"other\"])\n",
    "demo.launch(share=True)"
   ]
  },
  {
   "cell_type": "code",
   "execution_count": null,
   "id": "ef729df5-4be8-4d59-8936-a87692abfc6b",
   "metadata": {},
   "outputs": [],
   "source": []
  }
 ],
 "metadata": {
  "kernelspec": {
   "display_name": "Python 3 (ipykernel)",
   "language": "python",
   "name": "python3"
  },
  "language_info": {
   "codemirror_mode": {
    "name": "ipython",
    "version": 3
   },
   "file_extension": ".py",
   "mimetype": "text/x-python",
   "name": "python",
   "nbconvert_exporter": "python",
   "pygments_lexer": "ipython3",
   "version": "3.9.15"
  }
 },
 "nbformat": 4,
 "nbformat_minor": 5
}
